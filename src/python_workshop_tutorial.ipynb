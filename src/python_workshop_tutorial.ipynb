{
 "cells": [
  {
   "cell_type": "markdown",
   "metadata": {},
   "source": [
    "# Programming with Python: A General Python Workshop Tutorial for New Python Users "
   ]
  },
  {
   "cell_type": "markdown",
   "metadata": {},
   "source": [
    "### Table of Contents"
   ]
  },
  {
   "cell_type": "markdown",
   "metadata": {},
   "source": [
    "1) Getting started with Python (Downloading software and botting up python on the terminal)\n",
    "\n",
    "2) Introduction to Jupyter Notebooks environment and libraries \n",
    "\n",
    "3) Variable types\n",
    "\n",
    "4) Common Mathematical Operations\n",
    "\n",
    "4) Analyzing Data \n",
    "\n",
    "    a) Slicing arrays  \n",
    "\n",
    "    b) Statistical operations on arrays\n",
    "\n",
    "    c) for loops \n",
    "\n",
    "    d) Working with lists/ List comprehension\n",
    "\n",
    "    e) Conditional statements: Making Choices\n",
    "\n",
    "    f) Creating Functions \n",
    "\n",
    "    g) Calling data in .nc and .txt formats\n",
    "    \n",
    "    h) Visualize data: Plotting \n",
    "\n",
    "    i) Errors and Exceptions \n",
    "\n",
    "    j) Defensive Programming \n",
    "\n",
    "    k) Debugging \n",
    "\n",
    "5) Resources "
   ]
  },
  {
   "cell_type": "markdown",
   "metadata": {},
   "source": [
    "### Getting started with Python "
   ]
  },
  {
   "cell_type": "markdown",
   "metadata": {},
   "source": [
    "The Python program can be ran via three main platforms: \n",
    "\n",
    "**1) Anaconda or Miniconda**: These two platforms can be installed onto your computer via the app store for Anaconda and via the terminal for miniconda. Anaconda comes with most packages included in the downloading process. Miniconda however does not, but this allows you to customize your packages to fit your needs. The packages are easily installable via the terminal command-line. Both platforms utilize a browser window in order to run python through Jupyter Notebooks. Install Anaconda (https://www.anaconda.com/distribution/) and Miniconda (https://docs.conda.io/en/latest/miniconda.html) from online references. To boot up the anaconda, type \"jupyter notebooks\" into the command line in the terminal. The Jupyter Notebook kernal will be launched and have the root starting in the directory you were currently in. Note that Jupyter Notebooks **REQUIRES INTERNET**. \n",
    "\n",
    "**2) IPython**: IPython is a command-line python kernal that allows you to code directly into the terminal. IPython can be installed through miniconda and should be automatically installed with Anaconda. To boot up, type ipython into the command -line in the terminal\n",
    "\n",
    "We will focus in the Jupyter Notebook Enviroment from hereon. "
   ]
  },
  {
   "cell_type": "markdown",
   "metadata": {},
   "source": [
    "### Introduction to Jupyter Notebook's Environment "
   ]
  },
  {
   "cell_type": "markdown",
   "metadata": {},
   "source": [
    "Once a kernal is initiated, under the file tab you will see a list of directories and files under the directory which you booted jupyter notebooks in. From here, will be able to go through the file system to find and launch your .ipynb files. If this is the first time running jupyter notebooks, you can create a new directory (outside the jupyter notebook environment) and create a new notebook within this directory by location the new directory and clicking new in the top right corner. Under the running tab in the top left side of the kernal directory page, you can see currently running notebooks and studown or continue them. In the center of the page you can see the current directory and the path to that directory in the blue text. \n",
    "\n",
    "Now that a new Kernal has been created, complete the following: \n",
    "\n",
    "1) Rename the Notebook at the top center of the page from Untitled to something descriptive. Make sure to not include spaces, wildcards or quotes in the name. \n",
    "\n",
    "2) Give a title to your notebook with a longer less abreviated description of the purpose of the notebook using a mark down cell (esc + m) and increase fontsize and bold title with esc + 1 or 2 \n",
    "\n",
    "Use mark down cell throughout the notebook to describe what the code is doing at each step in order for readers to easy follow. \n",
    "\n",
    "Play around with the drop down menus and the toolbar to fimilarize yourself with the enivorment. The most critical things to note are the short cuts to the toolbar above. Here are a few of the important ones: \n",
    "\n",
    "1) esc + m = convert a code cell to a markdown cell\n",
    "\n",
    "2) esc + y = convert a markdown cell to a code cell \n",
    "\n",
    "3) shift + enter = run current cell \n",
    "\n",
    "4) esc + a = Insert a cell above the current cell \n",
    "\n",
    "5) esc + b = Insert a cell below the current cell\n",
    "\n",
    "6) esc + x = Cut the current cell\n",
    "\n",
    "By pressing esc, you place the notebook in command mode. By pressing enter or clicking the cell, you place the notebook in edit mode. To get a full list of short cuts =, press esc + h."
   ]
  },
  {
   "cell_type": "markdown",
   "metadata": {},
   "source": [
    "### Variable Types "
   ]
  },
  {
   "cell_type": "markdown",
   "metadata": {},
   "source": [
    "**1) Integers/long numbers, floats, and complex**: Integers are exactly what you would expect (Whole numbers ranging from -inf to inf) while floats are any numbers with a decimal. Long numbers are integer numbers that have scientific notation or significantely large. Complex numbers are any numbers with an imaginary part. \n",
    "\n",
    "**2) Strings**: a collection of letters contained by two quotation marks '' or \"\".  \n",
    "\n",
    "**3) Boolean**: a true or false binary variable \n",
    "\n",
    "**4) Tuples**: a immutable sequences of any tpye  of object elements from strings, floats, and integers (or booleans). Tuples parentheses and separate each element with a comma. \n",
    "\n",
    "**5) Lists**: a mutable sequence of any type of object including strings, floats, integers, and booleans.\n",
    "\n",
    "**6) Arrays**: a mutable sequence\n",
    "\n",
    "**7) Dictionaries**: an unordered collection of data values, used to store data values. Unlike other Data Types that hold only single value as an element, Dictionary holds key:value pair.\n",
    "\n",
    "    e.g. monthly_data = {}\n",
    "         monthly_data = {'time': [], 'mean': [], 'median': [],'std': [],'N': [] }\n"
   ]
  },
  {
   "cell_type": "markdown",
   "metadata": {},
   "source": [
    "### Common Mathematical Operations "
   ]
  },
  {
   "cell_type": "markdown",
   "metadata": {},
   "source": [
    "1. a + b= elementwise addition \n",
    "\n",
    "2. np.sum(a) = sum entire numpy array \n",
    "\n",
    "3. a - b= elementwise subtraction\n",
    "\n",
    "4. a @ b or np.dot(a,b) = matrix multiplication \n",
    "\n",
    "5. a * b = elementwise multiplication \n",
    "\n",
    "6. a/b = elementwise division\n",
    "\n",
    "7. a//b = floor division \n",
    "\n",
    "8. a**b = elementwise exponentiation \n",
    "\n",
    "9. a.T = transpose of a\n",
    "\n",
    "10. a.conj().T = conjugate transpose of a"
   ]
  },
  {
   "cell_type": "markdown",
   "metadata": {},
   "source": [
    "### Analyzing Data "
   ]
  },
  {
   "cell_type": "markdown",
   "metadata": {},
   "source": [
    "Plot figures within jupyter notebook within following command: "
   ]
  },
  {
   "cell_type": "code",
   "execution_count": 5,
   "metadata": {},
   "outputs": [],
   "source": [
    "%matplotlib inline"
   ]
  },
  {
   "cell_type": "markdown",
   "metadata": {},
   "source": [
    "Import Libraries (libraries contain commands for processing data)"
   ]
  },
  {
   "cell_type": "code",
   "execution_count": 6,
   "metadata": {},
   "outputs": [],
   "source": [
    "import numpy as np #library for working with arrays \n",
    "import matplotlib.pyplot as plt #library for plotting\n",
    "from netCDF4 import Dataset, num2date #library commands used for reading in netCDF files \n",
    "import glob # use to create a list of filenames "
   ]
  },
  {
   "cell_type": "markdown",
   "metadata": {},
   "source": [
    "Setting variables and printing value and attributes "
   ]
  },
  {
   "cell_type": "code",
   "execution_count": 7,
   "metadata": {},
   "outputs": [
    {
     "name": "stdout",
     "output_type": "stream",
     "text": [
      "Values of swh\n",
      "[[2 2 0 2 4 0 3 2]\n",
      " [4 1 0 4 5 2 2 5]\n",
      " [2 2 4 0 4 2 1 4]\n",
      " [3 5 4 2 3 1 4 0]\n",
      " [1 5 4 3 2 5 3 0]]\n",
      "Shape of swh where (rows,columns) = array.shape is: (5, 8)\n",
      "Type of variable is: <class 'numpy.ndarray'>\n",
      "Type of number (integer, float, long number, or complex)is: int64\n"
     ]
    }
   ],
   "source": [
    "swh = np.random.randint(0,6,size=(5,8))\n",
    "print('Values of swh')\n",
    "print(swh) \n",
    "print('Shape of swh where (rows,columns) = array.shape is:', swh.shape)\n",
    "print('Type of variable is:', type(swh))\n",
    "print('Type of number (integer, float, long number, or complex)is:', swh[0,0].dtype)"
   ]
  },
  {
   "cell_type": "markdown",
   "metadata": {},
   "source": [
    "**Slicing arrays**\n",
    "\n",
    "Basics: \n",
    "\n",
    "1) Array indices start at 0, not 1\n",
    "\n",
    "2) *Array[x,y]* selects a single element from the 2D array where x = row and y = column\n",
    "\n",
    "3) General syntax for an array: *array[start:stop:step]*\n",
    "\n",
    "4) Use *low:high* to specify a slice of the array along a dimension of the array including indices from *low* to *high-1*\n",
    "\n",
    "5) All indexing and slicing that works on arrays also works on strings \n",
    "\n"
   ]
  },
  {
   "cell_type": "code",
   "execution_count": 9,
   "metadata": {},
   "outputs": [
    {
     "name": "stdout",
     "output_type": "stream",
     "text": [
      "0\n",
      "[[4 0 3 2]\n",
      " [5 2 2 5]\n",
      " [4 2 1 4]]\n",
      "[[1 5 4 3 2 5 3 0]]\n",
      "[[2 2 0 2 4 0 3 2]\n",
      " [4 1 0 4 5 2 2 5]\n",
      " [2 2 4 0 4 2 1 4]]\n",
      "[[2 2 4 0 4 2 1 4]\n",
      " [3 5 4 2 3 1 4 0]\n",
      " [1 5 4 3 2 5 3 0]]\n",
      "[[2 2 0 2 4 0 3 2]\n",
      " [2 2 4 0 4 2 1 4]\n",
      " [1 5 4 3 2 5 3 0]]\n",
      "[[2 2 0 2 4 0 3 2]\n",
      " [2 2 4 0 4 2 1 4]\n",
      " [1 5 4 3 2 5 3 0]]\n",
      "[[5 3 0]]\n",
      "[[1 5 4 3 2 5 3 0]\n",
      " [4 1 0 4 5 2 2 5]]\n"
     ]
    }
   ],
   "source": [
    "print(swh[2,3])\n",
    "print(swh[0:3,4:8])\n",
    "print(swh[4:])\n",
    "print(swh[:3])\n",
    "print(swh[-3:])\n",
    "print(swh[0:5:2])\n",
    "print(swh[::2])\n",
    "print(swh[4:,5:])\n",
    "print(swh[::-3])"
   ]
  },
  {
   "cell_type": "markdown",
   "metadata": {},
   "source": [
    "**Statistical operations on arrays** "
   ]
  },
  {
   "cell_type": "code",
   "execution_count": 10,
   "metadata": {},
   "outputs": [
    {
     "name": "stdout",
     "output_type": "stream",
     "text": [
      "2.55 1.5960889699512368 5 0\n",
      "\n",
      "[1.875 2.875 2.375 2.75  2.875]\n",
      "\n",
      "[2.4 3.  2.4 2.2 3.6 2.  2.6 2.2]\n"
     ]
    }
   ],
   "source": [
    "#operation on the entire array\n",
    "swh_mean = np.mean(swh)\n",
    "swh_std = np.std(swh)\n",
    "swh_max = np.max(swh)\n",
    "swh_min = np.min(swh)\n",
    "print(swh_mean, swh_std, swh_max, swh_min)\n",
    "#operations along an axis \n",
    "swh_mean_column = np.mean(swh, axis=0) #calculate mean across row axis (down each column)\n",
    "swh_mean_row = np.mean(swh, axis=1) #calculate mean across column axis (across each row)\n",
    "print('')\n",
    "print(swh_mean_row)\n",
    "print('')\n",
    "print(swh_mean_column)"
   ]
  },
  {
   "cell_type": "code",
   "execution_count": 13,
   "metadata": {},
   "outputs": [
    {
     "name": "stdout",
     "output_type": "stream",
     "text": [
      "1.875\n"
     ]
    }
   ],
   "source": [
    "mean_test = (2 + 2 + 0 + 2 + 4 + 0 + 3 + 2)/8\n",
    "print(mean_test)"
   ]
  },
  {
   "cell_type": "markdown",
   "metadata": {},
   "source": [
    "**for loops**\n",
    "\n",
    "Syntax: \n",
    "\n",
    "    for variable in sequence:\n",
    "\n",
    "        print(variable)\n",
    "        \n",
    "Purpose: Use for loops to process the elements of a squence one at a time"
   ]
  },
  {
   "cell_type": "code",
   "execution_count": 36,
   "metadata": {},
   "outputs": [
    {
     "name": "stdout",
     "output_type": "stream",
     "text": [
      "[0, 1, 2, 3, 4, 5, 6, 7, 8, 9]\n",
      "10\n",
      "10\n"
     ]
    }
   ],
   "source": [
    "#initalize list \n",
    "swh_list = []\n",
    "\n",
    "for ilen in range(0,10,1):\n",
    "    swh_list.append(ilen)\n",
    "    \n",
    "#look what swh_list looks like\n",
    "print(swh_list)\n",
    "print(len(swh_list))\n",
    "print(np.size(swh_list))"
   ]
  },
  {
   "cell_type": "markdown",
   "metadata": {},
   "source": [
    "**Working with lists**\n",
    "\n",
    "Basics:\n",
    "\n",
    "1) Lists are mutable (can be manipulated such that elements can be swapped, deleted, etc.) \n",
    "\n",
    "2) Lists can contain multple types of variables\n",
    "\n",
    "3) Lists are indexed and sliced with square brackets (e.g., list[0] and list[2:9]), in the same way as strings and arrays."
   ]
  },
  {
   "cell_type": "code",
   "execution_count": 42,
   "metadata": {},
   "outputs": [
    {
     "name": "stdout",
     "output_type": "stream",
     "text": [
      "['air', 3.2]\n",
      "3.8\n"
     ]
    }
   ],
   "source": [
    "#create an empty list\n",
    "wsp = []\n",
    "#Create a populated list\n",
    "wsp = [1.2, 3.5, 'air', 3.2, 3.1, [6.9, 3.8, 4.9]]\n",
    "#Slicing List\n",
    "print(wsp[2:4])\n",
    "print(wsp[-1][1])"
   ]
  },
  {
   "cell_type": "markdown",
   "metadata": {},
   "source": [
    "**List Comprehension**: a powerful way of manipulating lists"
   ]
  },
  {
   "cell_type": "code",
   "execution_count": 36,
   "metadata": {},
   "outputs": [
    {
     "name": "stdout",
     "output_type": "stream",
     "text": [
      "['01', '02', '03', '04', '05', '06', '07', '08', '09', '10', '11', '12', '13', '14', '15', '16', '17', '18', '19', '20', '21', '22', '23', '24', '25', '26', '27', '28', '29', '30']\n"
     ]
    }
   ],
   "source": [
    "#Example of list comprehension\n",
    "days = [str(i).zfill(2) for i in range(1,31)]\n",
    "print(days)"
   ]
  },
  {
   "cell_type": "markdown",
   "metadata": {},
   "source": [
    "**Conditional statements**: Making Choices \n",
    "\n",
    "Syntax: \n",
    "\n",
    "    if condition: \n",
    "\n",
    "        print(swh)\n",
    "        \n",
    "    elif condition:\n",
    "    \n",
    "        print(wsp)\n",
    "        \n",
    "    else: \n",
    "        \n",
    "        print(swh,wsp)\n",
    "        \n",
    "Other conditional statements: \n",
    "\n",
    "    a==b : test for equivalence\n",
    "    \n",
    "    Logical Operators: Used in conditional statements for determining whether two boolean arguments are true or false statements based on the following: \n",
    "\n",
    "    a and b:  returns TRUE if both the operands (right side and left side) are true\n",
    "\n",
    "    a or b: returns TRUE if either of the operand (right side or left side) is true\n",
    "    \n",
    "    not a: returns TRUE if operand is false \n",
    "    \n",
    "    Note that logicaal operators can only be used to comepare two boolean conditional statements and cannot be used in series. Use multiple conditional statements to save boolean results in variables that can be used later. \n",
    "    \n",
    "    Bitwise operators: Bitwise operators compare corresponding digits in two binary numbers and return a result in binary form accordingly. \n",
    "    \n",
    "    a & b: Bitwise ‘and’ (&) returns a binary number with 1 at digits where both of the corresponding digits of the operands are 1\n",
    "\n",
    "    a | b: Bitwise ‘or’ (|) returns a binary number with 1 at digits where at least one of the digits of the operands was 1\n",
    "    \n",
    "    >=, <=, != : greater than or equal to, less than or equal to, not equal to \n",
    "    \n",
    "    +=, - = , *=, /= : shortcut operators for addition, subtraction, multiplcation, and division which bypasses that step of redefining a variable after preforming one of the four operations on its self with another number  \n",
    "    \n",
    "Zero, empty strings, and empty lists are considered **False** \n",
    "All other numbers, strings and lists are considered **True**\n",
    "True and False represents truth values"
   ]
  },
  {
   "cell_type": "code",
   "execution_count": 10,
   "metadata": {},
   "outputs": [
    {
     "name": "stdout",
     "output_type": "stream",
     "text": [
      "Southern California has a larger spread of values than Northern California\n"
     ]
    }
   ],
   "source": [
    "#Logical operator example \n",
    "#Initialize variables \n",
    "swh_norcal = np.random.randint(0,8,size=(5,8))\n",
    "swh_socal = np.random.randint(1,10, size=(5,8))\n",
    "\n",
    "#Set conditional statement\n",
    "if np.max(swh_norcal) > np.max(swh_socal) and np.min(swh_norcal) < np.min(swh_socal):\n",
    "    print('Northern California has a larger spread of values than southern California')\n",
    "elif np.max(swh_norcal) == np.max(swh_socal) or np.min(swh_socal) == np.min(swh_norcal:\n",
    "    print('Northern California maybe has the same spread of values as southern California')\n",
    "else: \n",
    "    print('Southern California has a larger spread of values than Northern California')"
   ]
  },
  {
   "cell_type": "code",
   "execution_count": 13,
   "metadata": {},
   "outputs": [
    {
     "name": "stdout",
     "output_type": "stream",
     "text": [
      "0\n",
      "1\n"
     ]
    }
   ],
   "source": [
    "#Bitwise operator examples \n",
    "print(0&1) # prints 0 (0000) since 0000 'and' 0001 => 0000\n",
    "print(0|1) # prints 1 (0001), since 0000 'and' 0001 => 0001"
   ]
  },
  {
   "cell_type": "markdown",
   "metadata": {},
   "source": [
    "**Creating Functions**\n",
    "\n",
    "**Syntax**: \n",
    "\n",
    "    def function_name(parameters): \n",
    "        '''\n",
    "        Documentation\n",
    "        '''\n",
    "        #Code for function\n",
    "        \n",
    "        return variable_1, variable_2 #Output variables from function\n",
    "\n",
    "**Basics**: \n",
    " \n",
    "1) Variables defined within a function can only be seen and used within the body of the function.\n",
    "\n",
    "2) Specify default values for parameters when defining a function using name=value in the parameter list\n",
    "\n",
    "3) Parameters can be passed by matching based on name, by position, or by omitting them (in which case the default value is used)\n",
    "\n",
    "**Purpose** of Functions are to automize and streamline your code in order to your code more efficient, easier to debug, and easier to write. Functions can be expanded upon to compelete a wide variety of tasks by adding conditional statements. \n",
    "\n",
    "**Importing functions** from .py files with the following code: \n",
    "\n",
    "import sys # import sys library \n",
    "sys.path.append('/zdata/home/lcolosi/python_functions/') #using sys, give the notebook that path inorder to find the functions .py file \n",
    "\n",
    "#import functions \n",
    "from unweighted_least_square_fit import least_square_fit \n",
    "from char_LSF_curve import character_LSF\n",
    "from monthly_mean import monthly_average"
   ]
  },
  {
   "cell_type": "code",
   "execution_count": 20,
   "metadata": {},
   "outputs": [],
   "source": [
    "def wind_stress_mag(C_d, rho, U_10):\n",
    "    \n",
    "    '''\n",
    "    Documentation Section: \n",
    "    \n",
    "    wind_stress_mag(C_d, rho, U_10)\n",
    "        \n",
    "        Function for computing scalar wind stress magnitude \n",
    "        \n",
    "        Parameter\n",
    "        ---------\n",
    "        C_d : wind drag coefficient \n",
    "        rho : air density (kg/m^3)\n",
    "        U_10 : wind speed 10 meters above the suface of the water (m/s)\n",
    "        \n",
    "        Libraries necessary\n",
    "        -------------------\n",
    "        import numpy as np\n",
    "    '''\n",
    "    \n",
    "    #import libraries\n",
    "    import numpy as np\n",
    "    \n",
    "    #compute wind stress magnitude\n",
    "    wsm = C_d*rho*U_10**2\n",
    "    \n",
    "    return wsm"
   ]
  },
  {
   "cell_type": "code",
   "execution_count": 21,
   "metadata": {},
   "outputs": [
    {
     "name": "stdout",
     "output_type": "stream",
     "text": [
      "0.12\n"
     ]
    }
   ],
   "source": [
    "wsm = wind_stress_mag(0.001, 1.2, 10)\n",
    "print(wsm)"
   ]
  },
  {
   "cell_type": "code",
   "execution_count": 25,
   "metadata": {},
   "outputs": [],
   "source": [
    "#Obtain documentation on function: \n",
    "wind_stress_mag?"
   ]
  },
  {
   "cell_type": "markdown",
   "metadata": {},
   "source": [
    "**Calling data in .nc and .txt formats**\n",
    "\n",
    "**Basic steps for importing data into Jupyter notebooks**:\n",
    "\n",
    "1) Import libraries for calling netCDF or text files \n",
    "\n",
    "    a) netCDF files: from netCDF4 import Dataset, num2date\n",
    "    \n",
    "    b) Text files: import numpy as np\n",
    "\n",
    "2) Set the path to the data located locally on your computer. There are ways to obtain data located remotely, however that is not covered here. Paths are usually strings. \n",
    "\n",
    "    ex: filenames = '/zdata/downloads/colosi_data_bk/binned_data/ifremer_p1_daily_data/my_daily_binned_ifremer_data/ifremer_swh_daily_binned_data_93_16_bia.nc'\n",
    "    \n",
    "    If you need to import several files, use the glob library to compile a list of filenames that have a common filename structure or patter. Use wildcards (* or ?) in order to grab multiple files with the same beginning or endings. Use * in a pattern to match zero or more characters, and ? to match any single character.\n",
    "    \n",
    "    ex: filenames = sorted(glob.glob('/zdata/downloads/colosi_data_bk/binned_data/ccmpv2_wind_data/daily_binned_ccmp_v2_data/ccmp_v2_wsp_daily_binned_data_*_high_res.nc'))\n",
    "    \n",
    "    where the sorted function (built in function to python) returns a new list containing all items from the iterable in ascending order\n",
    "\n",
    "\n",
    "3) From here, we take two separate paths for netCDF and text files \n",
    "\n",
    "    a) netCDF files: \n",
    "    \n",
    "        #set nc variable in order to read attributes and obtained data: \n",
    "        nc = Dataset(filenames[0], 'r')\n",
    "        \n",
    "        #print key variables:\n",
    "        print(nc.variables.keys())\n",
    "        \n",
    "        #call data \n",
    "        swh = nc.variables['swh'][:]\n",
    "    \n",
    "    b) Text files: \n",
    "    \n",
    "        #Call data \n",
    "        chlorophyll = np.loadtxt(fname='/Users/lukecolosi/Downloads/chlorophyll-01.csv', delimiter=',')\n",
    "        \n",
    "   For netCDF files and text files, both will leave you with variables linked to data arrays \n"
   ]
  },
  {
   "cell_type": "code",
   "execution_count": 39,
   "metadata": {},
   "outputs": [],
   "source": [
    "#documentation on loading text files via numpy command\n",
    "np.loadtxt?"
   ]
  },
  {
   "cell_type": "markdown",
   "metadata": {},
   "source": [
    "**Visualizing Data: Plotting**\n",
    "\n",
    "**Basic types of plotting functions in matplotlib.pyplot library**:\n",
    "\n",
    "    1) plt.plot() : line plots \n",
    "    \n",
    "    2) plt.contour() : contour plots \n",
    "    \n",
    "    3) plt.contourf() : contour filled plots (a discrete pcolor plot with countours)\n",
    "    \n",
    "    4) plt.pcolor() : colormap with continous or discrete colorbars\n",
    "    \n",
    "    5) plt.scatter() : scatter plot \n",
    "    \n",
    "    6) plt.imshow() : image plot \n",
    "       \n",
    "    7) plt.fill_between() : line plots with shadded regions \n",
    "    \n",
    "**Single Figure Plotting**: \n",
    "\n",
    "**Plotting Subplots**: \n"
   ]
  },
  {
   "cell_type": "code",
   "execution_count": 63,
   "metadata": {},
   "outputs": [
    {
     "name": "stdout",
     "output_type": "stream",
     "text": [
      "60\n",
      "[[0.3 0.4 0.4 ... 0.1 0.1 0.1]\n",
      " [0.3 0.4 0.4 ... 0.1 0.1 0.1]\n",
      " [0.4 0.4 0.4 ... 0.  0.  0. ]\n",
      " ...\n",
      " [0.2 0.2 0.2 ... 0.1 0.1 0.1]\n",
      " [0.2 0.2 0.2 ... 0.1 0.1 0.1]\n",
      " [0.2 0.3 0.3 ... 0.1 0.1 0.1]]\n"
     ]
    },
    {
     "data": {
      "image/png": "[encoded data removed]",
      "text/plain": [
       "<Figure size 432x288 with 1 Axes>"
      ]
     },
     "metadata": {
      "needs_background": "light"
     },
     "output_type": "display_data"
    }
   ],
   "source": [
    "#Single Figure Plotting Example: \n",
    "\n",
    "#import extra libraries for plotting \n",
    "from matplotlib import cm\n",
    "\n",
    "#import chlorophyll data \n",
    "chlorophyll = np.loadtxt(fname='/zdata/downloads/colosi_data_bk/txt_data/chlorophyll-01.csv',delimiter=',')\n",
    "print(chlorophyll.shape[0])\n",
    "print(chlorophyll)\n",
    "\n",
    "#set variables \n",
    "profiles = np.arange(1,chlorophyll.shape[0]+1)\n",
    "depth = -1*np.arange(1,chlorophyll.shape[1]+1)\n",
    "\n",
    "#Method 1:\n",
    "#fig = plt.imshow(chlorophyll)\n",
    "#plt.colorbar()\n",
    "\n",
    "#Method 2: \n",
    "#fig = plt.pcolor(profiles, depth, chlorophyll)\n",
    "#plt.xlabel('Depth [m]')\n",
    "#plt.ylabel('Number of profiles')\n",
    "#plt.title('Chl concentration [mg/m^3]')\n",
    "#plt.colorbar()\n",
    "\n",
    "#Method 3: \n",
    "#levels = np.arange(0, 1.8, 0.1)\n",
    "#fig = plt.contourf(profiles, depth, chlorophyll, levels=levels, cmap=cm.YlOrRd,\n",
    "#                  extend='neither')\n",
    "#plt.colorbar()\n",
    "\n",
    "#Method 4: \n",
    "#chlorophyll_mean = np.mean(chlorophyll, axis=0)\n",
    "#fig = plt.plot(chlorophyll_mean,depth)\n",
    "#plt.xlabel('chl [mg/m^3]')\n",
    "#plt.ylabel('Depth [m]')\n",
    "#plt.title('Average Chl concentration')\n",
    "\n",
    "#method 5: \n",
    "\n",
    "\n",
    "#Method 6: \n",
    "fig = plt.hist(chlorophyll.flatten(), bins = np.arange(0,1.8, 0.15))\n",
    "\n",
    "#save figure\n",
    "#plt.savefig(fname = '/zdata/downloads/colosi_data_bk/surfacewaves_python_figs/swa_frac_ocean/hist_partitioned_ocean', bbox_inches = 'tight', dpi=300)\n"
   ]
  },
  {
   "cell_type": "code",
   "execution_count": 53,
   "metadata": {},
   "outputs": [
    {
     "data": {
      "image/png": "[encoded data removed]",
      "text/plain": [
       "<Figure size 432x288 with 2 Axes>"
      ]
     },
     "metadata": {
      "needs_background": "light"
     },
     "output_type": "display_data"
    }
   ],
   "source": [
    "#Subplot Example: \n",
    "\n",
    "#import swh phase constant data from a .npz file \n",
    "ifremer_swh = np.load('/zdata/downloads/colosi_data_bk/binned_data/ifremer_p1_daily_data/my_daily_binned_ifremer_data/char_lsf_5par_npz/ifremer_swhcor_char.npz')\n",
    "\n",
    "#set variables \n",
    "swh_amp1_m = ifremer_swh['swh_annual_amp']\n",
    "swh_phase1_m = ifremer_swh['swh_annual_phase']\n",
    "\n",
    "#initialize subplot axes: \n",
    "fig, axes = plt.subplots(1, 2, figsize=(6,4))\n",
    "\n",
    "ax1, ax2 = axes.flatten()\n"
   ]
  },
  {
   "cell_type": "markdown",
   "metadata": {},
   "source": [
    "**Errors and Exceptions**\n",
    "\n",
    "Tracebacks (error output) can look intimidating, but they give us a lot of useful information about what went wrong in our program, including where the error occurred and what type of error it was.\n",
    "\n",
    "An error having to do with the ‘grammar’ or syntax of the program is called a SyntaxError. If the issue has to do with how the code is indented, then it will be called an IndentationError.\n",
    "\n",
    "A NameError will occur if you use a variable that has not been defined, either because you meant to use quotes around a string, you forgot to define the variable, or you just made a typo.\n",
    "\n",
    "Containers like lists and strings will generate errors if you try to access items in them that do not exist. This type of error is called an IndexError.\n",
    "\n",
    "Trying to read a file that does not exist will give you an FileNotFoundError. Trying to read a file that is open for writing, or writing to a file that is open for reading, will give you an IOError."
   ]
  },
  {
   "cell_type": "markdown",
   "metadata": {},
   "source": [
    "**Defensive Programming**\n",
    "\n",
    "Program defensively, i.e., assume that errors are going to arise, and write code to detect them when they do.\n",
    "\n",
    "Put assertions in programs to check their state as they run, and to help readers understand how those programs are supposed to work.\n",
    "\n",
    "Use preconditions to check that the inputs to a function are safe to use.\n",
    "\n",
    "Use postconditions to check that the output from a function is safe to use.\n",
    "\n",
    "Test your program or function in order to make sure it is correctly preforming the way you want it to. Give your function or program an input with a know output and make sure this output is outputted. \n",
    "\n",
    "Write documentation before writing code in order to help determine exactly what that code is supposed to do and to assist future reader."
   ]
  },
  {
   "cell_type": "markdown",
   "metadata": {},
   "source": [
    "**Debugging**\n",
    "\n",
    "- Know what code is supposed to do before trying to debug it.\n",
    "\n",
    "- Make it fail fast.\n",
    "\n",
    "- Change one thing at a time, and for a reason.\n",
    "\n",
    "- Keep track of what you’ve done.\n",
    "\n",
    "- Be humble."
   ]
  },
  {
   "cell_type": "markdown",
   "metadata": {},
   "source": [
    "### Resources"
   ]
  },
  {
   "cell_type": "markdown",
   "metadata": {},
   "source": [
    "To obtain documentation on commands or functions built in to python, from imported libraries, or from your own self-programmed libraries, type help(function) or function?"
   ]
  },
  {
   "cell_type": "markdown",
   "metadata": {},
   "source": [
    "NumPy for Matlab Users: Gives python equivalent syntax for common matlab commands (https://docs.scipy.org/doc/numpy/user/numpy-for-matlab-users.html)"
   ]
  },
  {
   "cell_type": "markdown",
   "metadata": {},
   "source": [
    "### Acknowledgements "
   ]
  },
  {
   "cell_type": "markdown",
   "metadata": {},
   "source": [
    "Thank you to Software Carpentry for supply information and structure for this tutorial. Visit the Software Carpentry Website for further discussion: https://swcarpentry.github.io/python-novice-inflammation/reference/"
   ]
  },
  {
   "cell_type": "markdown",
   "metadata": {},
   "source": [
    "# ***Instructor Training Presentation*** \n",
    "## Creating a Function Tutorial\n",
    "\n",
    "Outline of presentation: \n",
    "1. Motivation \n",
    "2. Syntax\n",
    "3. Example/formative assessment \n",
    "4. Working with functions \n",
    "    * Documentation and testing \n",
    "    * Local verse Global variables \n",
    "    * Defaults \n",
    "5. Example/formative assessment "
   ]
  },
  {
   "cell_type": "markdown",
   "metadata": {},
   "source": [
    "**Motivation for using a function**: \n",
    "\n",
    "Think of the case where we have plotted a figure (say a scatter plot) and we have implemented several specifications to the figure (i.e. marker size, grid lines, x and y labels with custom tickmarks, title). All these specification add up to a lot of lines of repeditive code. Therefore: \n",
    "\n",
    "$$ \\textbf{We’d like a way to package our code (performing a commonly used job or task) so that it is easier to reuse} $$ \n",
    "\n",
    "And this is exactly what a function can do! It allows us to reexecute long pieces of code in a condensed manner. "
   ]
  },
  {
   "cell_type": "markdown",
   "metadata": {},
   "source": [
    "**Syntax**: Volume Example"
   ]
  },
  {
   "cell_type": "code",
   "execution_count": 1,
   "metadata": {},
   "outputs": [],
   "source": [
    "import numpy as np "
   ]
  },
  {
   "cell_type": "code",
   "execution_count": 2,
   "metadata": {},
   "outputs": [],
   "source": [
    "def volume(x,y,z):\n",
    "    return x*y*z"
   ]
  },
  {
   "cell_type": "code",
   "execution_count": 3,
   "metadata": {},
   "outputs": [
    {
     "data": {
      "text/plain": [
       "6"
      ]
     },
     "execution_count": 3,
     "metadata": {},
     "output_type": "execute_result"
    }
   ],
   "source": [
    "volume(1,2,3)"
   ]
  },
  {
   "cell_type": "markdown",
   "metadata": {},
   "source": [
    "Example for Volume "
   ]
  },
  {
   "cell_type": "code",
   "execution_count": 8,
   "metadata": {},
   "outputs": [],
   "source": [
    "v = 0\n",
    "def volume(x,y,z):\n",
    "    v = x*y*z\n",
    "    return v"
   ]
  },
  {
   "cell_type": "code",
   "execution_count": 10,
   "metadata": {},
   "outputs": [
    {
     "name": "stdout",
     "output_type": "stream",
     "text": [
      "6\n"
     ]
    }
   ],
   "source": [
    "volume(1,2,3)\n",
    "print(v)"
   ]
  }
 ],
 "metadata": {
  "kernelspec": {
   "display_name": "Python 3",
   "language": "python",
   "name": "python3"
  },
  "language_info": {
   "codemirror_mode": {
    "name": "ipython",
    "version": 3
   },
   "file_extension": ".py",
   "mimetype": "text/x-python",
   "name": "python",
   "nbconvert_exporter": "python",
   "pygments_lexer": "ipython3",
   "version": "3.7.3"
  }
 },
 "nbformat": 4,
 "nbformat_minor": 2
}
